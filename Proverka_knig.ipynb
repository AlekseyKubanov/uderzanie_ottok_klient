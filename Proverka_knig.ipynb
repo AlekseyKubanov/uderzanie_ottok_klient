{
 "cells": [
  {
   "cell_type": "markdown",
   "id": "a4b9e63e",
   "metadata": {
    "toc": true
   },
   "source": [
    "<h1>Table of Contents<span class=\"tocSkip\"></span></h1>\n",
    "<div class=\"toc\"><ul class=\"toc-item\"><li><span><a href=\"#Цели-исследования.\" data-toc-modified-id=\"Цели-исследования.-1\"><span class=\"toc-item-num\">1&nbsp;&nbsp;</span>Цели исследования.</a></span></li><li><span><a href=\"#Задания.\" data-toc-modified-id=\"Задания.-2\"><span class=\"toc-item-num\">2&nbsp;&nbsp;</span>Задания.</a></span></li><li><span><a href=\"#Знакомство-с-данными.\" data-toc-modified-id=\"Знакомство-с-данными.-3\"><span class=\"toc-item-num\">3&nbsp;&nbsp;</span>Знакомство с данными.</a></span><ul class=\"toc-item\"><li><span><a href=\"#Посчитайте,-сколько-книг-вышло-после-1-января-2000-года?\" data-toc-modified-id=\"Посчитайте,-сколько-книг-вышло-после-1-января-2000-года?-3.1\"><span class=\"toc-item-num\">3.1&nbsp;&nbsp;</span>Посчитайте, сколько книг вышло после 1 января 2000 года?</a></span></li><li><span><a href=\"#Для-каждой-книги-посчитайте-количество-обзоров-и-среднюю-оценку.\" data-toc-modified-id=\"Для-каждой-книги-посчитайте-количество-обзоров-и-среднюю-оценку.-3.2\"><span class=\"toc-item-num\">3.2&nbsp;&nbsp;</span>Для каждой книги посчитайте количество обзоров и среднюю оценку.</a></span></li><li><span><a href=\"#Определите-издательство,-которое-выпустило-наибольшее-число-книг-толще-50-страниц-—-так-вы-исключите-из-анализа-брошюры.\" data-toc-modified-id=\"Определите-издательство,-которое-выпустило-наибольшее-число-книг-толще-50-страниц-—-так-вы-исключите-из-анализа-брошюры.-3.3\"><span class=\"toc-item-num\">3.3&nbsp;&nbsp;</span>Определите издательство, которое выпустило наибольшее число книг толще 50 страниц — так вы исключите из анализа брошюры.</a></span></li><li><span><a href=\"#Определите-автора-с-самой-высокой-средней-оценкой-книг-—-учитывайте-только-книги-с-50-и-более-оценками.\" data-toc-modified-id=\"Определите-автора-с-самой-высокой-средней-оценкой-книг-—-учитывайте-только-книги-с-50-и-более-оценками.-3.4\"><span class=\"toc-item-num\">3.4&nbsp;&nbsp;</span>Определите автора с самой высокой средней оценкой книг — учитывайте только книги с 50 и более оценками.</a></span></li><li><span><a href=\"#Посчитайте-среднее-количество-обзоров-от-пользователей,-которые-поставили-больше-48-оценок.\" data-toc-modified-id=\"Посчитайте-среднее-количество-обзоров-от-пользователей,-которые-поставили-больше-48-оценок.-3.5\"><span class=\"toc-item-num\">3.5&nbsp;&nbsp;</span>Посчитайте среднее количество обзоров от пользователей, которые поставили больше 48 оценок.</a></span></li></ul></li><li><span><a href=\"#Общий-итог.\" data-toc-modified-id=\"Общий-итог.-4\"><span class=\"toc-item-num\">4&nbsp;&nbsp;</span>Общий итог.</a></span></li><li><span><a href=\"#Рекомендации.\" data-toc-modified-id=\"Рекомендации.-5\"><span class=\"toc-item-num\">5&nbsp;&nbsp;</span>Рекомендации.</a></span></li></ul></div>"
   ]
  },
  {
   "cell_type": "code",
   "execution_count": null,
   "id": "cb224a95",
   "metadata": {},
   "outputs": [],
   "source": []
  },
  {
   "cell_type": "markdown",
   "id": "7b31c90d",
   "metadata": {},
   "source": [
    "# Исследование рейтинга книг."
   ]
  },
  {
   "cell_type": "markdown",
   "id": "cf47d09f",
   "metadata": {},
   "source": [
    "Коронавирус застал мир врасплох, изменив привычный порядок вещей. На какое-то время жители городов перестали выходить на улицу, посещать кафе и торговые центры. Зато стало больше времени для книг. Это заметили стартаперы — и бросились создавать приложения для тех, кто любит читать.  \n",
    "  \n",
    "Ваша компания решила быть на волне и купила крупный сервис для чтения книг по подписке. Ваша первая задача как аналитика — проанализировать базу данных.  \n",
    "  \n",
    "В ней — информация о книгах, издательствах, авторах, а также пользовательские обзоры книг. Эти данные помогут сформулировать ценностное предложение для нового продукта."
   ]
  },
  {
   "cell_type": "markdown",
   "id": "d30b30c1",
   "metadata": {},
   "source": [
    "## Цели исследования."
   ]
  },
  {
   "cell_type": "markdown",
   "id": "b8220194",
   "metadata": {},
   "source": [
    "Опредиление рейтинга книг, авторов и издательств."
   ]
  },
  {
   "cell_type": "markdown",
   "id": "7d07c66e",
   "metadata": {},
   "source": [
    "## Задания."
   ]
  },
  {
   "cell_type": "markdown",
   "id": "803b3117",
   "metadata": {},
   "source": [
    "- Посчитайте, сколько книг вышло после 1 января 2000 года;\n",
    "- Для каждой книги посчитайте количество обзоров и среднюю оценку;\n",
    "- Определите издательство, которое выпустило наибольшее число книг толще 50 страниц — так вы исключите из анализа брошюры;\n",
    "- Определите автора с самой высокой средней оценкой книг — учитывайте только книги с 50 и более оценками;\n",
    "- Посчитайте среднее количество обзоров от пользователей, которые поставили больше 48 оценок."
   ]
  },
  {
   "cell_type": "code",
   "execution_count": 1,
   "id": "0017bfa8",
   "metadata": {},
   "outputs": [],
   "source": [
    "# импортируем библиотеки\n",
    "import pandas as pd\n",
    "import sqlalchemy as sa"
   ]
  },
  {
   "cell_type": "code",
   "execution_count": 2,
   "id": "03d6eac6",
   "metadata": {},
   "outputs": [],
   "source": [
    "# устанавливаем параметры\n",
    "db_config = {\n",
    "             'user': 'praktikum_student', # имя пользователя\n",
    "             'pwd': 'Sdf4$2;d-d30pp', # пароль\n",
    "             'host': 'rc1b-wcoijxj3yxfsf3fs.mdb.yandexcloud.net',\n",
    "             'port': 6432, # порт подключения\n",
    "             'db': 'data-analyst-final-project-db' # название базы данных\n",
    "            }\n",
    "connection_string = 'postgresql://{user}:{pwd}@{host}:{port}/{db}'.format(**db_config)\n",
    "\n",
    "# сохраняем коннектор\n",
    "engine = sa.create_engine(connection_string, connect_args={'sslmode':'require'})\n",
    "\n",
    "# чтобы выполнить SQL-запрос, пишем функцию с использованием Pandas\n",
    "def get_sql_data(query:str, engine:sa.engine.base.Engine=engine) -> pd.DataFrame:\n",
    "    '''Открываем соединение, получаем данные из sql, закрываем соединение'''\n",
    "    with engine.connect() as con:\n",
    "        return pd.read_sql(sql=sa.text(query), con = con)"
   ]
  },
  {
   "cell_type": "markdown",
   "id": "70c9cd6a",
   "metadata": {},
   "source": [
    "## Знакомство с данными."
   ]
  },
  {
   "cell_type": "markdown",
   "id": "68fb21f3",
   "metadata": {},
   "source": [
    "Таблица **books** содержит данные о книгах:\n",
    "- *book_id* — идентификатор книги;\n",
    "- *author_id* — идентификатор автора;\n",
    "- *title* — название книги;\n",
    "- *num_pages* — количество страниц;\n",
    "- *publication_date* — дата публикации книги;\n",
    "- *publisher_id* — идентификатор издателя."
   ]
  },
  {
   "cell_type": "code",
   "execution_count": 3,
   "id": "d6975109",
   "metadata": {},
   "outputs": [
    {
     "data": {
      "text/html": [
       "<div>\n",
       "<style scoped>\n",
       "    .dataframe tbody tr th:only-of-type {\n",
       "        vertical-align: middle;\n",
       "    }\n",
       "\n",
       "    .dataframe tbody tr th {\n",
       "        vertical-align: top;\n",
       "    }\n",
       "\n",
       "    .dataframe thead th {\n",
       "        text-align: right;\n",
       "    }\n",
       "</style>\n",
       "<table border=\"1\" class=\"dataframe\">\n",
       "  <thead>\n",
       "    <tr style=\"text-align: right;\">\n",
       "      <th></th>\n",
       "      <th>book_id</th>\n",
       "      <th>author_id</th>\n",
       "      <th>title</th>\n",
       "      <th>num_pages</th>\n",
       "      <th>publication_date</th>\n",
       "      <th>publisher_id</th>\n",
       "    </tr>\n",
       "  </thead>\n",
       "  <tbody>\n",
       "    <tr>\n",
       "      <th>0</th>\n",
       "      <td>1</td>\n",
       "      <td>546</td>\n",
       "      <td>'Salem's Lot</td>\n",
       "      <td>594</td>\n",
       "      <td>2005-11-01</td>\n",
       "      <td>93</td>\n",
       "    </tr>\n",
       "    <tr>\n",
       "      <th>1</th>\n",
       "      <td>2</td>\n",
       "      <td>465</td>\n",
       "      <td>1 000 Places to See Before You Die</td>\n",
       "      <td>992</td>\n",
       "      <td>2003-05-22</td>\n",
       "      <td>336</td>\n",
       "    </tr>\n",
       "    <tr>\n",
       "      <th>2</th>\n",
       "      <td>3</td>\n",
       "      <td>407</td>\n",
       "      <td>13 Little Blue Envelopes (Little Blue Envelope...</td>\n",
       "      <td>322</td>\n",
       "      <td>2010-12-21</td>\n",
       "      <td>135</td>\n",
       "    </tr>\n",
       "    <tr>\n",
       "      <th>3</th>\n",
       "      <td>4</td>\n",
       "      <td>82</td>\n",
       "      <td>1491: New Revelations of the Americas Before C...</td>\n",
       "      <td>541</td>\n",
       "      <td>2006-10-10</td>\n",
       "      <td>309</td>\n",
       "    </tr>\n",
       "    <tr>\n",
       "      <th>4</th>\n",
       "      <td>5</td>\n",
       "      <td>125</td>\n",
       "      <td>1776</td>\n",
       "      <td>386</td>\n",
       "      <td>2006-07-04</td>\n",
       "      <td>268</td>\n",
       "    </tr>\n",
       "  </tbody>\n",
       "</table>\n",
       "</div>"
      ],
      "text/plain": [
       "   book_id  author_id                                              title  \\\n",
       "0        1        546                                       'Salem's Lot   \n",
       "1        2        465                 1 000 Places to See Before You Die   \n",
       "2        3        407  13 Little Blue Envelopes (Little Blue Envelope...   \n",
       "3        4         82  1491: New Revelations of the Americas Before C...   \n",
       "4        5        125                                               1776   \n",
       "\n",
       "   num_pages publication_date  publisher_id  \n",
       "0        594       2005-11-01            93  \n",
       "1        992       2003-05-22           336  \n",
       "2        322       2010-12-21           135  \n",
       "3        541       2006-10-10           309  \n",
       "4        386       2006-07-04           268  "
      ]
     },
     "execution_count": 3,
     "metadata": {},
     "output_type": "execute_result"
    }
   ],
   "source": [
    "query = '''SELECT * FROM books LIMIT 5'''\n",
    "get_sql_data(query)"
   ]
  },
  {
   "cell_type": "code",
   "execution_count": 4,
   "id": "28ba0b41",
   "metadata": {},
   "outputs": [
    {
     "data": {
      "text/html": [
       "<div>\n",
       "<style scoped>\n",
       "    .dataframe tbody tr th:only-of-type {\n",
       "        vertical-align: middle;\n",
       "    }\n",
       "\n",
       "    .dataframe tbody tr th {\n",
       "        vertical-align: top;\n",
       "    }\n",
       "\n",
       "    .dataframe thead th {\n",
       "        text-align: right;\n",
       "    }\n",
       "</style>\n",
       "<table border=\"1\" class=\"dataframe\">\n",
       "  <thead>\n",
       "    <tr style=\"text-align: right;\">\n",
       "      <th></th>\n",
       "      <th>count</th>\n",
       "    </tr>\n",
       "  </thead>\n",
       "  <tbody>\n",
       "    <tr>\n",
       "      <th>0</th>\n",
       "      <td>1000</td>\n",
       "    </tr>\n",
       "  </tbody>\n",
       "</table>\n",
       "</div>"
      ],
      "text/plain": [
       "   count\n",
       "0   1000"
      ]
     },
     "execution_count": 4,
     "metadata": {},
     "output_type": "execute_result"
    }
   ],
   "source": [
    "query = '''SELECT COUNT(*) FROM books'''\n",
    "get_sql_data(query)"
   ]
  },
  {
   "cell_type": "markdown",
   "id": "6832ae2c",
   "metadata": {},
   "source": [
    "Таблица **authors** содержит данные об авторах:\n",
    "- *author_id* — идентификатор автора;\n",
    "- *author* — имя автора."
   ]
  },
  {
   "cell_type": "code",
   "execution_count": 5,
   "id": "024b93f2",
   "metadata": {},
   "outputs": [
    {
     "data": {
      "text/html": [
       "<div>\n",
       "<style scoped>\n",
       "    .dataframe tbody tr th:only-of-type {\n",
       "        vertical-align: middle;\n",
       "    }\n",
       "\n",
       "    .dataframe tbody tr th {\n",
       "        vertical-align: top;\n",
       "    }\n",
       "\n",
       "    .dataframe thead th {\n",
       "        text-align: right;\n",
       "    }\n",
       "</style>\n",
       "<table border=\"1\" class=\"dataframe\">\n",
       "  <thead>\n",
       "    <tr style=\"text-align: right;\">\n",
       "      <th></th>\n",
       "      <th>author_id</th>\n",
       "      <th>author</th>\n",
       "    </tr>\n",
       "  </thead>\n",
       "  <tbody>\n",
       "    <tr>\n",
       "      <th>0</th>\n",
       "      <td>1</td>\n",
       "      <td>A.S. Byatt</td>\n",
       "    </tr>\n",
       "    <tr>\n",
       "      <th>1</th>\n",
       "      <td>2</td>\n",
       "      <td>Aesop/Laura Harris/Laura Gibbs</td>\n",
       "    </tr>\n",
       "    <tr>\n",
       "      <th>2</th>\n",
       "      <td>3</td>\n",
       "      <td>Agatha Christie</td>\n",
       "    </tr>\n",
       "    <tr>\n",
       "      <th>3</th>\n",
       "      <td>4</td>\n",
       "      <td>Alan Brennert</td>\n",
       "    </tr>\n",
       "    <tr>\n",
       "      <th>4</th>\n",
       "      <td>5</td>\n",
       "      <td>Alan Moore/David   Lloyd</td>\n",
       "    </tr>\n",
       "  </tbody>\n",
       "</table>\n",
       "</div>"
      ],
      "text/plain": [
       "   author_id                          author\n",
       "0          1                      A.S. Byatt\n",
       "1          2  Aesop/Laura Harris/Laura Gibbs\n",
       "2          3                 Agatha Christie\n",
       "3          4                   Alan Brennert\n",
       "4          5        Alan Moore/David   Lloyd"
      ]
     },
     "execution_count": 5,
     "metadata": {},
     "output_type": "execute_result"
    }
   ],
   "source": [
    "query = '''SELECT * FROM authors LIMIT 5'''\n",
    "get_sql_data(query)"
   ]
  },
  {
   "cell_type": "code",
   "execution_count": 6,
   "id": "b5b1316b",
   "metadata": {},
   "outputs": [
    {
     "data": {
      "text/html": [
       "<div>\n",
       "<style scoped>\n",
       "    .dataframe tbody tr th:only-of-type {\n",
       "        vertical-align: middle;\n",
       "    }\n",
       "\n",
       "    .dataframe tbody tr th {\n",
       "        vertical-align: top;\n",
       "    }\n",
       "\n",
       "    .dataframe thead th {\n",
       "        text-align: right;\n",
       "    }\n",
       "</style>\n",
       "<table border=\"1\" class=\"dataframe\">\n",
       "  <thead>\n",
       "    <tr style=\"text-align: right;\">\n",
       "      <th></th>\n",
       "      <th>count</th>\n",
       "    </tr>\n",
       "  </thead>\n",
       "  <tbody>\n",
       "    <tr>\n",
       "      <th>0</th>\n",
       "      <td>636</td>\n",
       "    </tr>\n",
       "  </tbody>\n",
       "</table>\n",
       "</div>"
      ],
      "text/plain": [
       "   count\n",
       "0    636"
      ]
     },
     "execution_count": 6,
     "metadata": {},
     "output_type": "execute_result"
    }
   ],
   "source": [
    "query = '''SELECT COUNT(*) FROM authors'''\n",
    "get_sql_data(query)"
   ]
  },
  {
   "cell_type": "markdown",
   "id": "0bcfd887",
   "metadata": {},
   "source": [
    "Таблица **publishers** содержит данные об издательствах:\n",
    "- *publisher_id* — идентификатор издательства;\n",
    "- *publisher* — название издательства;"
   ]
  },
  {
   "cell_type": "code",
   "execution_count": 7,
   "id": "cb2caf0a",
   "metadata": {},
   "outputs": [
    {
     "data": {
      "text/html": [
       "<div>\n",
       "<style scoped>\n",
       "    .dataframe tbody tr th:only-of-type {\n",
       "        vertical-align: middle;\n",
       "    }\n",
       "\n",
       "    .dataframe tbody tr th {\n",
       "        vertical-align: top;\n",
       "    }\n",
       "\n",
       "    .dataframe thead th {\n",
       "        text-align: right;\n",
       "    }\n",
       "</style>\n",
       "<table border=\"1\" class=\"dataframe\">\n",
       "  <thead>\n",
       "    <tr style=\"text-align: right;\">\n",
       "      <th></th>\n",
       "      <th>publisher_id</th>\n",
       "      <th>publisher</th>\n",
       "    </tr>\n",
       "  </thead>\n",
       "  <tbody>\n",
       "    <tr>\n",
       "      <th>0</th>\n",
       "      <td>1</td>\n",
       "      <td>Ace</td>\n",
       "    </tr>\n",
       "    <tr>\n",
       "      <th>1</th>\n",
       "      <td>2</td>\n",
       "      <td>Ace Book</td>\n",
       "    </tr>\n",
       "    <tr>\n",
       "      <th>2</th>\n",
       "      <td>3</td>\n",
       "      <td>Ace Books</td>\n",
       "    </tr>\n",
       "    <tr>\n",
       "      <th>3</th>\n",
       "      <td>4</td>\n",
       "      <td>Ace Hardcover</td>\n",
       "    </tr>\n",
       "    <tr>\n",
       "      <th>4</th>\n",
       "      <td>5</td>\n",
       "      <td>Addison Wesley Publishing Company</td>\n",
       "    </tr>\n",
       "  </tbody>\n",
       "</table>\n",
       "</div>"
      ],
      "text/plain": [
       "   publisher_id                          publisher\n",
       "0             1                                Ace\n",
       "1             2                           Ace Book\n",
       "2             3                          Ace Books\n",
       "3             4                      Ace Hardcover\n",
       "4             5  Addison Wesley Publishing Company"
      ]
     },
     "execution_count": 7,
     "metadata": {},
     "output_type": "execute_result"
    }
   ],
   "source": [
    "query = '''SELECT * FROM publishers LIMIT 5'''\n",
    "get_sql_data(query)"
   ]
  },
  {
   "cell_type": "code",
   "execution_count": 8,
   "id": "2023c0a3",
   "metadata": {},
   "outputs": [
    {
     "data": {
      "text/html": [
       "<div>\n",
       "<style scoped>\n",
       "    .dataframe tbody tr th:only-of-type {\n",
       "        vertical-align: middle;\n",
       "    }\n",
       "\n",
       "    .dataframe tbody tr th {\n",
       "        vertical-align: top;\n",
       "    }\n",
       "\n",
       "    .dataframe thead th {\n",
       "        text-align: right;\n",
       "    }\n",
       "</style>\n",
       "<table border=\"1\" class=\"dataframe\">\n",
       "  <thead>\n",
       "    <tr style=\"text-align: right;\">\n",
       "      <th></th>\n",
       "      <th>count</th>\n",
       "    </tr>\n",
       "  </thead>\n",
       "  <tbody>\n",
       "    <tr>\n",
       "      <th>0</th>\n",
       "      <td>340</td>\n",
       "    </tr>\n",
       "  </tbody>\n",
       "</table>\n",
       "</div>"
      ],
      "text/plain": [
       "   count\n",
       "0    340"
      ]
     },
     "execution_count": 8,
     "metadata": {},
     "output_type": "execute_result"
    }
   ],
   "source": [
    "query = '''SELECT COUNT(*) FROM publishers'''\n",
    "get_sql_data(query)"
   ]
  },
  {
   "cell_type": "markdown",
   "id": "4a7f1cd3",
   "metadata": {},
   "source": [
    "Таблица **ratings** содержит данные о пользовательских оценках книг:\n",
    "- *rating_id* — идентификатор оценки;\n",
    "- *book_id* — идентификатор книги;\n",
    "- *username* — имя пользователя, оставившего оценку;\n",
    "- *rating* — оценка книги."
   ]
  },
  {
   "cell_type": "code",
   "execution_count": 9,
   "id": "c25739c4",
   "metadata": {},
   "outputs": [
    {
     "data": {
      "text/html": [
       "<div>\n",
       "<style scoped>\n",
       "    .dataframe tbody tr th:only-of-type {\n",
       "        vertical-align: middle;\n",
       "    }\n",
       "\n",
       "    .dataframe tbody tr th {\n",
       "        vertical-align: top;\n",
       "    }\n",
       "\n",
       "    .dataframe thead th {\n",
       "        text-align: right;\n",
       "    }\n",
       "</style>\n",
       "<table border=\"1\" class=\"dataframe\">\n",
       "  <thead>\n",
       "    <tr style=\"text-align: right;\">\n",
       "      <th></th>\n",
       "      <th>rating_id</th>\n",
       "      <th>book_id</th>\n",
       "      <th>username</th>\n",
       "      <th>rating</th>\n",
       "    </tr>\n",
       "  </thead>\n",
       "  <tbody>\n",
       "    <tr>\n",
       "      <th>0</th>\n",
       "      <td>1</td>\n",
       "      <td>1</td>\n",
       "      <td>ryanfranco</td>\n",
       "      <td>4</td>\n",
       "    </tr>\n",
       "    <tr>\n",
       "      <th>1</th>\n",
       "      <td>2</td>\n",
       "      <td>1</td>\n",
       "      <td>grantpatricia</td>\n",
       "      <td>2</td>\n",
       "    </tr>\n",
       "    <tr>\n",
       "      <th>2</th>\n",
       "      <td>3</td>\n",
       "      <td>1</td>\n",
       "      <td>brandtandrea</td>\n",
       "      <td>5</td>\n",
       "    </tr>\n",
       "    <tr>\n",
       "      <th>3</th>\n",
       "      <td>4</td>\n",
       "      <td>2</td>\n",
       "      <td>lorichen</td>\n",
       "      <td>3</td>\n",
       "    </tr>\n",
       "    <tr>\n",
       "      <th>4</th>\n",
       "      <td>5</td>\n",
       "      <td>2</td>\n",
       "      <td>mariokeller</td>\n",
       "      <td>2</td>\n",
       "    </tr>\n",
       "  </tbody>\n",
       "</table>\n",
       "</div>"
      ],
      "text/plain": [
       "   rating_id  book_id       username  rating\n",
       "0          1        1     ryanfranco       4\n",
       "1          2        1  grantpatricia       2\n",
       "2          3        1   brandtandrea       5\n",
       "3          4        2       lorichen       3\n",
       "4          5        2    mariokeller       2"
      ]
     },
     "execution_count": 9,
     "metadata": {},
     "output_type": "execute_result"
    }
   ],
   "source": [
    "query = '''SELECT * FROM ratings LIMIT 5'''\n",
    "get_sql_data(query)"
   ]
  },
  {
   "cell_type": "code",
   "execution_count": 10,
   "id": "f9eff21b",
   "metadata": {},
   "outputs": [
    {
     "data": {
      "text/html": [
       "<div>\n",
       "<style scoped>\n",
       "    .dataframe tbody tr th:only-of-type {\n",
       "        vertical-align: middle;\n",
       "    }\n",
       "\n",
       "    .dataframe tbody tr th {\n",
       "        vertical-align: top;\n",
       "    }\n",
       "\n",
       "    .dataframe thead th {\n",
       "        text-align: right;\n",
       "    }\n",
       "</style>\n",
       "<table border=\"1\" class=\"dataframe\">\n",
       "  <thead>\n",
       "    <tr style=\"text-align: right;\">\n",
       "      <th></th>\n",
       "      <th>count</th>\n",
       "    </tr>\n",
       "  </thead>\n",
       "  <tbody>\n",
       "    <tr>\n",
       "      <th>0</th>\n",
       "      <td>6456</td>\n",
       "    </tr>\n",
       "  </tbody>\n",
       "</table>\n",
       "</div>"
      ],
      "text/plain": [
       "   count\n",
       "0   6456"
      ]
     },
     "execution_count": 10,
     "metadata": {},
     "output_type": "execute_result"
    }
   ],
   "source": [
    "query = '''SELECT COUNT(*) FROM ratings'''\n",
    "get_sql_data(query)"
   ]
  },
  {
   "cell_type": "markdown",
   "id": "032c14e0",
   "metadata": {},
   "source": [
    "Таблица **reviews** содержит данные о пользовательских обзорах на книги:\n",
    "- *review_id* — идентификатор обзора;\n",
    "- *book_id* — идентификатор книги;\n",
    "- *username* — имя пользователя, написавшего обзор;\n",
    "- *text* — текст обзора."
   ]
  },
  {
   "cell_type": "code",
   "execution_count": null,
   "id": "307a64c6",
   "metadata": {},
   "outputs": [],
   "source": [
    "query = '''SELECT * FROM reviews LIMIT 5'''\n",
    "get_sql_data(query)"
   ]
  },
  {
   "cell_type": "code",
   "execution_count": null,
   "id": "a9890174",
   "metadata": {},
   "outputs": [],
   "source": [
    "query = '''SELECT COUNT(*) FROM reviews'''\n",
    "get_sql_data(query)"
   ]
  },
  {
   "cell_type": "markdown",
   "id": "0bb0ef29",
   "metadata": {},
   "source": [
    "### Посчитайте, сколько книг вышло после 1 января 2000 года?"
   ]
  },
  {
   "cell_type": "code",
   "execution_count": null,
   "id": "84317bd8",
   "metadata": {},
   "outputs": [],
   "source": [
    "query = '''SELECT \n",
    "                COUNT(title) AS books_count\n",
    "           FROM books\n",
    "           WHERE publication_date >= '2000-01-01'\n",
    "        '''\n",
    "get_sql_data(query)"
   ]
  },
  {
   "cell_type": "markdown",
   "id": "406226c3",
   "metadata": {},
   "source": [
    "После 1 января 2000 года вышла 821 книга."
   ]
  },
  {
   "cell_type": "markdown",
   "id": "d52d5da5",
   "metadata": {},
   "source": [
    "### Для каждой книги посчитайте количество обзоров и среднюю оценку."
   ]
  },
  {
   "cell_type": "code",
   "execution_count": null,
   "id": "670f5fb9",
   "metadata": {},
   "outputs": [],
   "source": [
    "query = '''SELECT\n",
    "                 books.title AS book_title,\n",
    "                 books.book_id AS book_id,\n",
    "                 AVG(ratings.rating) AS avg_rating,\n",
    "                 COUNT(DISTINCT reviews.review_id) AS count_reviews\n",
    "            FROM books\n",
    "                 INNER JOIN ratings ON ratings.book_id = books.book_id\n",
    "                 LEFT JOIN reviews ON reviews.book_id = books.book_id\n",
    "            GROUP BY\n",
    "                 books.title,\n",
    "                 books.book_id\n",
    "            ORDER BY\n",
    "                 count_reviews DESC;\n",
    "        '''\n",
    "get_sql_data(query).round(3).head(10)"
   ]
  },
  {
   "cell_type": "markdown",
   "id": "a0e29048",
   "metadata": {},
   "source": [
    "По количеству обзоров лидирует книга *Twilight* (*Twilight* #1)"
   ]
  },
  {
   "cell_type": "markdown",
   "id": "2b8b8bc4",
   "metadata": {},
   "source": [
    "### Определите издательство, которое выпустило наибольшее число книг толще 50 страниц — так вы исключите из анализа брошюры."
   ]
  },
  {
   "cell_type": "code",
   "execution_count": null,
   "id": "6e08cbcf",
   "metadata": {},
   "outputs": [],
   "source": [
    "query_pub = '''SELECT \n",
    "                     publishers.publisher_id, \n",
    "                     publishers.publisher, \n",
    "                     COUNT(books.book_id) as count_books\n",
    "                FROM publishers\n",
    "                     JOIN books ON publishers.publisher_id = books.publisher_id\n",
    "                     WHERE \n",
    "                         books.num_pages > 50\n",
    "                     GROUP BY publishers.publisher_id\n",
    "                     ORDER BY count_books DESC\n",
    "                     LIMIT 10;\n",
    "                 ''' \n",
    "get_sql_data(query_pub)"
   ]
  },
  {
   "cell_type": "markdown",
   "id": "d9215987",
   "metadata": {},
   "source": [
    "Издательство **Penguin Books** выпустило наибольшее число книг - 42."
   ]
  },
  {
   "cell_type": "markdown",
   "id": "34f9b4a1",
   "metadata": {},
   "source": [
    "### Определите автора с самой высокой средней оценкой книг — учитывайте только книги с 50 и более оценками."
   ]
  },
  {
   "cell_type": "code",
   "execution_count": null,
   "id": "077d0c51",
   "metadata": {},
   "outputs": [],
   "source": [
    "query_avg = '''SELECT\n",
    "                     authors.author_id AS id,\n",
    "                     authors.author AS author,\n",
    "                     AVG(ratings.rating) AS avg_rating,\n",
    "                     COUNT(ratings.rating) AS count_rating\n",
    "                FROM authors\n",
    "                     INNER JOIN books ON books.author_id = authors.author_id\n",
    "                     INNER JOIN ratings ON ratings.book_id = books.book_id\n",
    "                GROUP BY id, author\n",
    "                     HAVING \n",
    "                     COUNT(ratings.rating) >= 50 \n",
    "                ORDER BY\n",
    "                     count_rating DESC\n",
    "                     LIMIT 1\n",
    "            '''\n",
    "get_sql_data(query_avg).round(3)"
   ]
  },
  {
   "cell_type": "markdown",
   "id": "a15e0a8f",
   "metadata": {},
   "source": [
    "Автор с самой высокой средней оценкой книг и с оценкой книг не менее 50 - **J.K. Rowling/Mary GrandPré**"
   ]
  },
  {
   "cell_type": "markdown",
   "id": "cbe719bb",
   "metadata": {},
   "source": [
    "### Посчитайте среднее количество обзоров от пользователей, которые поставили больше 48 оценок."
   ]
  },
  {
   "cell_type": "code",
   "execution_count": null,
   "id": "5fe13173",
   "metadata": {},
   "outputs": [],
   "source": [
    "query_user = '''SELECT\n",
    "                      AVG(review.review_cnt) AS avg_review\n",
    "                FROM  (SELECT COUNT(review_id) AS review_cnt\n",
    "                FROM  reviews\n",
    "                WHERE username\n",
    "                      IN (SELECT username\n",
    "                FROM  ratings\n",
    "                GROUP BY username\n",
    "                      HAVING\n",
    "                      COUNT(ratings) > 48)\n",
    "                GROUP BY username) AS review\n",
    "            '''\n",
    "get_sql_data(query_user).round(3)"
   ]
  },
  {
   "cell_type": "markdown",
   "id": "3bec6495",
   "metadata": {},
   "source": [
    "Среднее количество обзоров от пользователей, которые поставили больше 48 оценок - 24."
   ]
  },
  {
   "cell_type": "markdown",
   "id": "e382df54",
   "metadata": {},
   "source": [
    "## Общий итог."
   ]
  },
  {
   "cell_type": "markdown",
   "id": "71ab325e",
   "metadata": {},
   "source": [
    "- После 1 января 2000 года вышла 821 книга.\n",
    "- Для каждой книги составили таблицу количества обзоров и средней оценки. По количеству обзоров лидирует книга *Twilight* (*Twilight* #1)\n",
    "- Издательство **Penguin Books** выпустило наибольшее число книг - 42.\n",
    "- Автор с самой высокой средней оценкой книг и с оценкой книг не менее 50 - **J.K. Rowling/Mary GrandPré**.\n",
    "- Среднее количество обзоров от пользователей, которые поставили больше 48 оценок - 24."
   ]
  },
  {
   "cell_type": "markdown",
   "id": "11d3b2d4",
   "metadata": {},
   "source": [
    "## Рекомендации."
   ]
  },
  {
   "cell_type": "markdown",
   "id": "3b7e1385",
   "metadata": {},
   "source": [
    "Для привлечения клиентов следует ориентироваться на популярных авторов, бестселлеры.  \n",
    "Можно добавить разные тематическии статьи и рецензии по новым и вновь переизданным книгам.  \n",
    "Создать анонсирование выхода новых книг популярных авторов и своевременное их появление на сервисе."
   ]
  },
  {
   "cell_type": "code",
   "execution_count": null,
   "id": "1f23a3d7",
   "metadata": {},
   "outputs": [],
   "source": []
  }
 ],
 "metadata": {
  "kernelspec": {
   "display_name": "Python 3 (ipykernel)",
   "language": "python",
   "name": "python3"
  },
  "language_info": {
   "codemirror_mode": {
    "name": "ipython",
    "version": 3
   },
   "file_extension": ".py",
   "mimetype": "text/x-python",
   "name": "python",
   "nbconvert_exporter": "python",
   "pygments_lexer": "ipython3",
   "version": "3.11.5"
  },
  "toc": {
   "base_numbering": 1,
   "nav_menu": {},
   "number_sections": true,
   "sideBar": true,
   "skip_h1_title": true,
   "title_cell": "Table of Contents",
   "title_sidebar": "Contents",
   "toc_cell": true,
   "toc_position": {},
   "toc_section_display": true,
   "toc_window_display": false
  }
 },
 "nbformat": 4,
 "nbformat_minor": 5
}
